{
  "nbformat": 4,
  "nbformat_minor": 0,
  "metadata": {
    "colab": {
      "provenance": [],
      "toc_visible": true
    },
    "kernelspec": {
      "name": "python3",
      "display_name": "Python 3"
    },
    "language_info": {
      "name": "python"
    }
  },
  "cells": [
    {
      "cell_type": "code",
      "execution_count": null,
      "metadata": {
        "id": "Gpg8h9FpK4Nz"
      },
      "outputs": [],
      "source": [
        "!pip install google-genai"
      ]
    },
    {
      "cell_type": "code",
      "source": [
        "import os\n",
        "from google.colab import userdata\n",
        "\n",
        "os.environ['GOOGLE_API_KEY'] = userdata.get('GOOGLE_API_KEY')"
      ],
      "metadata": {
        "id": "Q2cZ2A2iMrKM"
      },
      "execution_count": null,
      "outputs": []
    },
    {
      "cell_type": "code",
      "source": [
        "from google import genai\n",
        "\n",
        "client = genai.Client()"
      ],
      "metadata": {
        "id": "fLysyIv9NMin"
      },
      "execution_count": null,
      "outputs": []
    },
    {
      "cell_type": "code",
      "source": [
        "model = \"gemini-2.0-flash\"\n",
        "\n",
        "response = client.models.generate_content(model=model,\n",
        "                                          contents=\"Como baixar o WhatsApp?\")"
      ],
      "metadata": {
        "id": "65KwQ8HaP5od"
      },
      "execution_count": null,
      "outputs": []
    },
    {
      "cell_type": "code",
      "source": [
        "response.text"
      ],
      "metadata": {
        "id": "Szw97uEmTYNC"
      },
      "execution_count": null,
      "outputs": []
    },
    {
      "cell_type": "code",
      "source": [
        "chat = client.chats.create(model=model)\n",
        "response = chat.send_message(\"Você é o Sobrinho Tech, um chatbot especialista em explicar dúvidas de tecnologia para leigos, idosos ou qualquer pessoa. Responda de forma simples, passo a passo, sem termos técnicos. Como baixar o facebook?\")\n",
        "\n",
        "response.text"
      ],
      "metadata": {
        "id": "xBgHev3dUeVL"
      },
      "execution_count": null,
      "outputs": []
    },
    {
      "cell_type": "code",
      "source": [
        "from google.genai import types\n",
        "\n",
        "chat_config = types.GenerateContentConfig(\n",
        "    system_instruction = 'Você é o Sobrinho Tech, um chatbot especialista em explicar dúvidas de tecnologia para leigos, idosos ou qualquer pessoa. Responda de forma simples, sucinta, passo a passo, sem termos técnicos.',\n",
        ")\n",
        "\n",
        "chat = client.chats.create(model=model, config=chat_config)\n",
        "response = chat.send_message(\"Como saber se um e-mail é golpe?\")\n",
        "\n",
        "response.text"
      ],
      "metadata": {
        "id": "A0D4dH3nV95J"
      },
      "execution_count": null,
      "outputs": []
    },
    {
      "cell_type": "code",
      "source": [
        "chat.get_history()"
      ],
      "metadata": {
        "id": "jNtrzovoXIqo"
      },
      "execution_count": null,
      "outputs": []
    },
    {
      "cell_type": "code",
      "source": [
        "prompt = input (\"Digite sua pergunta: \")\n",
        "\n",
        "while prompt != \"fim\":\n",
        "  response = chat.send_message(prompt)\n",
        "  print(\"Resposta:  \", response.text)\n",
        "  print(\"\\n\")\n",
        "  prompt = input (\"Digite sua pergunta: \")\n"
      ],
      "metadata": {
        "id": "JEkKpodbXTwB"
      },
      "execution_count": null,
      "outputs": []
    }
  ]
}